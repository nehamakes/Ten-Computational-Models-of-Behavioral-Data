{
 "cells": [
  {
   "cell_type": "markdown",
   "metadata": {},
   "source": [
    "# Ten simple rules for the computational modeling of behavioral data\n",
    "#### Original Paper and Code (Matlab) by Robert C. Wilson and Anne GE Collins\n",
    "\n",
    "> Python code and summaries by Neha Verma \n",
    "\n",
    "Example study used in implementation: <b> bandits task </b>\n",
    "- Goal: to understand how people learn to maximize\n",
    "their rewards in a case where the most rewarding choice is initially unknown\n",
    "-  A participant makes a series of $T$ choices between $K$ options ('one armed bandits task')\n",
    "- If played on trial $t$, each option $k$, pays out reward, $r_{t}$, which is 1 with reward probability $\\mu_{t}^{k}$, and otherwise 0. The different reward probabilities of each option is initially unknown to the subject.\n",
    "- As in the paper, we will assume that $T$ = 1000, $K$ = 2, and that the reward probabilities are $µ^{1}_{t} = 0.2$ for option 1 and $µ^{2}_{t} = 0.8$ for option 2.\n",
    "\n"
   ]
  },
  {
   "cell_type": "code",
   "execution_count": 1,
   "metadata": {},
   "outputs": [],
   "source": [
    "import numpy as np\n",
    "import matplotlib.pyplot as plt\n",
    "import seaborn as sns\n",
    "\n",
    "sns.set_style(\"whitegrid\")\n",
    "\n",
    "def choose(p_choices):\n",
    "    '''make choice according to choice probabilites'''\n",
    "    r = np.random.rand()\n",
    "    if r < p_choices[0]:\n",
    "        return 0\n",
    "    else:\n",
    "        return 1"
   ]
  },
  {
   "cell_type": "markdown",
   "metadata": {},
   "source": [
    "\n",
    "### A. Designing a Good Model\n",
    "\n",
    "###### Approaches that are commonly used today\n",
    "- Simplest approach: use heuristics to find a ‘reasonable’ way to handle information to produce the target behavior\n",
    "- Scour the artificial intelligence, computer science, and applied mathematics literature for algorithms that have been used to solve similar problems for artificial agents.\n",
    "    - Q-learning and temporal difference learning have been related to human and animal behavior and brain function\n",
    "- Bayes-optimal perspective, to design algorithms that perform optimally given a model of the environment and the task.\n",
    "    - used in ideal observer models in vision <br>\n",
    "\n",
    "###### Model Rules:\n",
    "1. A computational model should be as simple as possible, but no simpler\n",
    "1. A computational model should be interpretable (as much as possible)\n",
    "    - a negative learning rate is difficult to interpret in the framework of reinforcement learning\n",
    "1. The models should capture all the hypotheses you plan to test\n",
    "    - Competing models should have a genuine chance of relating to behavior in the task environment - and one should apply equal effort into fitting these models as with favored hypothesis\n",
    "\n",
    "<ins>Model 1: Random responding</ins>\n",
    "- Random behavior, maybe with slight bias for one option over other \n",
    "<br>\n",
    "$p_{t}^{1}=b$ and $p_{t}^{2}=1-b$\n",
    "<br>\n",
    "- Just one free parameter controlling bias for option 1 over option 2, <br>\n",
    "$\\theta_{1} = b$"
   ]
  },
  {
   "cell_type": "code",
   "execution_count": 120,
   "metadata": {},
   "outputs": [],
   "source": [
    "def random_response(T,𝜇, b):\n",
    "    choices = np.zeros(T)\n",
    "    rewards = np.zeros(T)\n",
    "    for t in range(T):\n",
    "        p_choices = [b, 1-b]\n",
    "        choice = choose(p_choices)\n",
    "        reward = int(np.random.rand() < 𝜇[choice])\n",
    "        choices[t], rewards[t] = choice, reward\n",
    "    return choices, rewards"
   ]
  },
  {
   "cell_type": "markdown",
   "metadata": {},
   "source": [
    "<ins>Model 2:  Noisy win-stay-lose-shift</ins>\n",
    "- Model applies win-stay-lose-shift rule with probability\n",
    "$1 - \\epsilon$, and chooses randomly with probability $\\epsilon$\n",
    "- Win-stay-lose-shift rule repeats rewarded actions and switches away from unrewarded actions\n",
    "- $c_{t} = 1, 2$ is the choice at trial $t$, and $r_{t} = 0$, 1 the reward at trial $t$\n",
    "\n",
    "$p_{t}^{2}= \\begin{cases} 1-\\epsilon/2 &\\mbox{if} \\; (c_{t-1}=k \\; and r_{t-1}=1) \\; OR \\; (c_{t-1}\\neq k \\; and \\; r_{t-1}=0) \\\\\n",
    "\\epsilon/2& \\mbox{if}\\;(c_{t-1}\\neq k \\; and r_{t-1}=1) \\; OR \\; (c_{t-1}= k \\; and \\; r_{t-1}=0) \\end{cases}$\n",
    "\n",
    "- One free parameter, the overall level of randomness: <br>\n",
    "$\\theta_{2} = \\epsilon$"
   ]
  },
  {
   "cell_type": "code",
   "execution_count": 122,
   "metadata": {},
   "outputs": [],
   "source": [
    "def wsls(T,𝜇,𝜖):\n",
    "    choices, rewards = np.zeros(T), np.zeros(T)\n",
    "    last_reward, last_choice = None, None\n",
    "    for t in range(T):\n",
    "        if last_reward is None:\n",
    "            p_choices = [0.5, 0.5] #in first trial, choose randomly\n",
    "        else:\n",
    "            if last_reward == 1: #choice depends on last reward\n",
    "                p_choices = np.multiply(𝜖/2,[1,1])\n",
    "                p_choices[last_choice]=1-𝜖/2\n",
    "            else:\n",
    "                p_choices = np.multiply(1-𝜖/2,[1,1])\n",
    "                p_choices[last_choice] = 𝜖/2\n",
    "        choice = choose(p_choices) #make choice according to choice probabilities\n",
    "        reward = int(np.random.rand() < 𝜇[choice]) #figure out reward\n",
    "        last_reward, last_choice = reward, choice\n",
    "        choices[t], rewards[t] = choice, reward\n",
    "    return choices, rewards"
   ]
  },
  {
   "cell_type": "markdown",
   "metadata": {},
   "source": [
    "<ins> Model 3:  Rescorla Wagner </ins>\n",
    "- Learn the expected value of each option based on the history of previous outcomes and then use these values to make a decision about what to do next\n",
    "- Simple model of learning: the value of option $k$,$Q^{k}_{t}$ is updated in response to reward $r_{t}$. $\\alpha$ is the learning rate (value between 0 and 1) and describes the weight of the prediction error, $(r_{t}-Q^{k}_{t})$, updates the value of option k : <br>\n",
    "$$Q^{k}_{t+1} = Q^{k}_{t}+\\alpha(r_{t}-Q^{k}_{t})$$\n",
    "\n",
    "- Assume $Q^{k}_{0}$ is 0\n",
    "- Participants use the most valuable option the most frequently but occasionally explore and make mistakes\n",
    "- <b>softmax</b> choice rule, choose option k with probability. $\\beta$ is the inverse temperature parameter that controls the level of stochasticity in the choice (can range from 0 to $\\infty$):<br>\n",
    "$$p_{t}^{k}=\\frac{exp(\\beta Q^{k}_{t})}{ \\sum _{i=1}^{K}exp(\\beta Q^{i}_{t})}$$<br>\n",
    "- Two free parameters: $\\alpha$ (learning rate) and $\\beta$ (inverse temperature) $$\\theta_{3} = (\\alpha, \\beta)$$"
   ]
  },
  {
   "cell_type": "code",
   "execution_count": 123,
   "metadata": {},
   "outputs": [],
   "source": [
    "def rescorlaWagner(T,𝜇,𝛼,𝛽):\n",
    "    Q = [0.5, 0.5] #initialize\n",
    "    choices, rewards = np.zeros(T), np.zeros(T)\n",
    "    for t in range(T):\n",
    "        p_choices = np.exp(𝛽*Q)/np.sum(np.exp(𝛽*Q)) #choice probability\n",
    "        choice = choose(p_choices)\n",
    "        reward = int(np.random.rand() < 𝜇[choice])\n",
    "        Q[choice] = Q[choice] + (𝛼 *(reward - Q[choice])) #update the value of options\n",
    "        choices[t], rewards[t] = choice, reward\n",
    "    return choices, rewards"
   ]
  },
  {
   "cell_type": "markdown",
   "metadata": {},
   "source": [
    "<ins> Model 4:  Choice Kernel </ins>\n",
    "- This model captures the tendency for people to repeat their previous actions\n",
    "- Assume that participants compute a choice kernet CK for each action, which keeps track of how frequently they have chosen that option in recent past.\n",
    "$$CK^{k}_{t+1}=CK^{k}_{t}+\\alpha_{c}(a^{k}_{t}-CK^{k}_{t})$$\n",
    "-  $a^{k}_{t} = 1$ if option k is played on trial t, otherwise $a^{k}_{t} = 0$, and $\\alpha$ is the choice-kernel learning rate. \n",
    "- Assume that choice kernel is always 0, but could be a parameter\n",
    "- Each option chosen according to:\n",
    "$$p^k_t= \\frac{exp(\\beta_{c} C K^k_{t})}{\\sum_{i=1}^{K}exp(\\beta_{c}CK^i_t)}$$\n",
    "- Two free parameters $$\\theta_{4}=(\\alpha_{c}\\beta{c})$$"
   ]
  },
  {
   "cell_type": "code",
   "execution_count": 5,
   "metadata": {},
   "outputs": [],
   "source": [
    "def choiceKernel(T,𝜇,𝛼,𝛽):\n",
    "    ck = np.zeros(2) #choice kernel\n",
    "    choices, rewards = np.zeros(T), np.zeros(T)\n",
    "    for t in range(T):\n",
    "        p_choices = np.divide(np.exp(np.multiply(𝛽,ck)),np.sum(np.exp(np.multiply(𝛽,ck))))\n",
    "        choice = choose(p_choices)\n",
    "        reward = int(np.random.rand() < 𝜇[choice])\n",
    "        ck = np.multiply((1-𝛼),ck)\n",
    "        ck[choice] = ck[choice] + 𝛼*1 \n",
    "        choices[t], rewards[t] = choice, reward\n",
    "    return choices, rewards"
   ]
  },
  {
   "cell_type": "markdown",
   "metadata": {},
   "source": [
    "<ins> Model 4:  Rescorla Wagner and Choice Kernel </ins>\n",
    "- Rescorla Wagner and choice kernel values updated according to equations from above\n",
    "$$p^k_t= \\frac{exp(\\beta_{c} C K^{k}_{t}+exp(\\beta Q^{k}_{t})}{\\sum_{i=1}^{K}exp(\\beta_{c}Q^{i}_{t}+\\beta_{c}CK^{i}_{t})}$$\n",
    "\n",
    "- Four free parameters: $$\\theta_{5}=(\\alpha, \\beta, \\alpha_{c}, \\beta_c)$$\n"
   ]
  },
  {
   "cell_type": "code",
   "execution_count": 6,
   "metadata": {},
   "outputs": [],
   "source": [
    "def rwck(T,𝜇,𝛼,𝛽,𝛼C,𝛽C):\n",
    "    Q = [0.5, 0.5]\n",
    "    ck = np.zeros(2) #choice kernel\n",
    "    choices, rewards = np.zeros(T), np.zeros(T)\n",
    "    for t in range(T):\n",
    "        p_choices = np.divide(np.exp(np.multiply(𝛽C,ck)\\\n",
    "                    +np.multiply(𝛽,Q)),np.sum(np.exp(np.multiply(𝛽C,ck)\\\n",
    "                    +np.multiply(𝛽,Q))))\n",
    "        choice = choose(p_choices)\n",
    "        reward = int(np.random.rand() < 𝜇[choice])\n",
    "        ck = np.multiply((1-𝛼),ck)\n",
    "        ck[choice] = ck[choice] + 𝛼*1 \n",
    "        Q[choice] = Q[choice] + (𝛼 *(reward - Q[choice]))\n",
    "        choices[t], rewards[t] = choice, reward\n",
    "    return choices, rewards"
   ]
  },
  {
   "cell_type": "markdown",
   "metadata": {},
   "source": [
    "### B. Simulate \n",
    "- In this step, we create fake, or surrogate data\n",
    "- Clarify how the models and experimental design satisfy the goal of identifying a cognitive process in behavior\n",
    "- Simulate the behavior of participants in the experiment, and to observe how behavior changes with different models, different model parameters, and different variants of the experiment\n",
    "\n",
    "###### Simulation Rules\n",
    "\n",
    "1. Define model-independent measures that capture key aspects of the processes you are trying to model.\n",
    "1. Simulate the model across the range of parameter values\n",
    "    - visualize behavior as a function of the parameters. Almost all models have free parameters. Understanding how changes to these parameters affect behavior will help you to better interpret your data and understand individual differences in fit parameters\n",
    "1. Learning rate parameter, can relate to both speed of learning and noisiness in asymptotic behavior, as can the inverse temperature parameter\n",
    "1. Visualize the simulated behavior of different models\n",
    "    - can verify that behavior is qualitatively different for different models, making their predictions in the experimental setup different"
   ]
  },
  {
   "cell_type": "markdown",
   "metadata": {},
   "source": [
    "###### Simulating behavior in the bandit task\n",
    "- Experiment parameters should match the actual parameters used in the experiment\n",
    "\n",
    "<ins>Parameters of the Task</ins>"
   ]
  },
  {
   "cell_type": "code",
   "execution_count": 125,
   "metadata": {},
   "outputs": [],
   "source": [
    "T = 1000 #number of trials\n",
    "n_choices = 2 #k = 2, number of options / bandits is 2\n",
    "𝜇 = [0.2, 0.8] #reward probability of each option\n",
    "n_reps = 100"
   ]
  },
  {
   "cell_type": "markdown",
   "metadata": {},
   "source": [
    "- Sample these parameters randomly from prior distributions over each parameter, the exact form of which will vary from model to model"
   ]
  },
  {
   "cell_type": "code",
   "execution_count": 126,
   "metadata": {},
   "outputs": [],
   "source": [
    "#Figure 2A\n",
    "# Win-stay-lose-shift behavior varies widely between models.\n",
    "choices_list = []\n",
    "rewards_list = []\n",
    "\n",
    "\"Model 1: Random Responding\"\n",
    "choices_matrix = np.zeros((n_reps,T))\n",
    "rewards_matrix = np.zeros((n_reps,T))\n",
    "for i in range(n_reps):\n",
    "    b = 0.5\n",
    "    choices_matrix[i], rewards_matrix[i] = random_response(T,𝜇, b)\n",
    "choices_list.append(choices_matrix)\n",
    "rewards_list.append(rewards_matrix)\n",
    "\"Model 2: Win-stay-lose-shift\"\n",
    "choices_matrix = np.zeros((n_reps,T))\n",
    "rewards_matrix = np.zeros((n_reps,T))\n",
    "for i in range(n_reps):\n",
    "    𝜖 = 0.05\n",
    "    choices_matrix[i], rewards_matrix[i] = wsls(T,𝜇,𝜖)\n",
    "choices_list.append(choices_matrix)\n",
    "rewards_list.append(rewards_matrix)\n",
    "\"Model 3: Rescorla Wagner\"\n",
    "choices_matrix = np.zeros((n_reps,T))\n",
    "rewards_matrix = np.zeros((n_reps,T))\n",
    "for i in range(n_reps):\n",
    "    𝛼, 𝛽 = 0.1, 5\n",
    "    choices_matrix[i], rewards_matrix[i] = rescorlaWagner(T,𝜇,𝛼,𝛽)\n",
    "choices_list.append(choices_matrix)\n",
    "rewards_list.append(rewards_matrix)\n",
    "\"Model 4: Choice Kernel\"\n",
    "choices_matrix = np.zeros((n_reps,T))\n",
    "rewards_matrix = np.zeros((n_reps,T))\n",
    "for i in range(n_reps):\n",
    "    𝛼, 𝛽 = 0.1, 3\n",
    "    choices_matrix[i], rewards_matrix[i] = choiceKernel(T,𝜇,𝛼,𝛽)\n",
    "choices_list.append(choices_matrix)\n",
    "rewards_list.append(rewards_matrix)\n",
    "\"Model 5: Rescorla Wagner and Choice Kernel\"\n",
    "choices_matrix = np.zeros((n_reps,T))\n",
    "rewards_matrix = np.zeros((n_reps,T))\n",
    "for i in range(n_reps):\n",
    "    𝛼, 𝛽  = 0.1, 5\n",
    "    𝛼C,𝛽C = 0.1, 1\n",
    "    choices_matrix[i], rewards_matrix[i] = rwck(T,𝜇,𝛼,𝛽,𝛼C,𝛽C)\n",
    "choices_list.append(choices_matrix) \n",
    "rewards_list.append(rewards_matrix)\n",
    "\n",
    "#choices list is a list of size 5, holding the choice matrices of each model\n",
    "#the choice matrix has n_reps rows of the T choices of each simulation"
   ]
  },
  {
   "cell_type": "code",
   "execution_count": 118,
   "metadata": {},
   "outputs": [],
   "source": [
    "#Analysis of wsls\n",
    "def analysis_wsls(choices_list, rewards_list):\n",
    "    curr, prev = 1, 0\n",
    "    winStay, loseStay = 0, 0\n",
    "    while curr < T:\n",
    "        l_choice = choices_list[prev]\n",
    "        stay =  int(l_choice == choices_list[curr])\n",
    "        l_reward = rewards_list[prev]\n",
    "        winStay += int(l_reward != 0)*stay\n",
    "        loseStay += int(l_reward == 0)*stay\n",
    "        curr+=1\n",
    "        prev+=1       \n",
    "    return winStay/np.sum(rewards_list), loseStay/(T - np.sum(rewards_list))\n",
    "    \n",
    "stay_results = []\n",
    "for i in range(5):\n",
    "    w_total, l_total = 0, 0\n",
    "    for j in range(n_reps):\n",
    "        w,l = analysis_wsls(choices_list[i][j], rewards_list[i][j])\n",
    "        w_total += w\n",
    "        l_total += l\n",
    "    w_avg, l_avg = w_total/n_reps, l_total/n_reps\n",
    "    stay_results.append((w_avg, l_avg))\n",
    "        \n",
    "        "
   ]
  },
  {
   "cell_type": "code",
   "execution_count": 128,
   "metadata": {},
   "outputs": [
    {
     "data": {
      "text/plain": [
       "(0.0, 1.0)"
      ]
     },
     "execution_count": 128,
     "metadata": {},
     "output_type": "execute_result"
    },
    {
     "data": {
      "image/png": "[encoded data removed]",
      "text/plain": [
       "<Figure size 720x576 with 1 Axes>"
      ]
     },
     "metadata": {},
     "output_type": "display_data"
    }
   ],
   "source": [
    "plt.figure(figsize=(10,8))\n",
    "for i in range(5):\n",
    "    plt.plot([0,1],list(stay_results[i])[::-1],marker=\"o\",label=\"M\"+str(i+1))\n",
    "plt.legend(prop={\"size\":14})\n",
    "plt.xlabel(\"previous reward\", size = 14)\n",
    "plt.ylabel(\"p(stay)\", size=14)\n",
    "plt.ylim(0, 1)"
   ]
  },
  {
   "cell_type": "markdown",
   "metadata": {},
   "source": [
    "- To visualize the simulated results we look at two model independent measures: the probability of repeating an action, referred to as p(stay) in the paper, and the probability of choosing the correct option, referred to as p(correct).\n",
    "\n",
    "    - Figure above plots p(stay) as a function of the reward on the last trial for each of the models with a particular set of parameters.\n",
    "\n",
    "    - For some models (in particular the win-stay-lose-shift model, Model 2) we expect a strong dependence on past reward, but for others (such as the random responder, Model 1) we expect no dependence.\n",
    "- In addition, the similarity to the graph in the original paper validates that my implementations of these models are correct."
   ]
  },
  {
   "cell_type": "markdown",
   "metadata": {},
   "source": [
    "### C. Reflection and Next Steps\n",
    "\n",
    "My scope for this project was to read, understand, and implement the 5 models (I originally thought there were 10) that this paper covered. Implementing the functions allowed me to learn in depth the way that the five models work, but also gave me a deeper understanding of the bandit task. I also understand how the task and models relate  to behavioral data (noted above). \n",
    "\n",
    "My plan (for the next week) is to also try and implement parameter fitting that this paper describes. I plan on doing this by first understanding, implementing and plotting the multiple local minima and then plotting the parameter recovery. Finally, I hope to also implement a model that has a side bias, B in addition to choosing based on the learning value.\n",
    "\n",
    "It has been really interesting to read about and understand behavioral data. After parameter fitting, I hope to post this on my github, and explore if there are additional models that I can add to this list of 5 models (maybe get context on updates in methodology as well as updates on this paper from Professor Anne Collins, as it has been two years since this paper was released). In addition, I hope to study Anne Gradial's research on modeling the basal ganglia and hopefully also explore computational modeling of the frontal lobe."
   ]
  },
  {
   "cell_type": "code",
   "execution_count": null,
   "metadata": {},
   "outputs": [],
   "source": []
  }
 ],
 "metadata": {
  "kernelspec": {
   "display_name": "Python 3",
   "language": "python",
   "name": "python3"
  },
  "language_info": {
   "codemirror_mode": {
    "name": "ipython",
    "version": 3
   },
   "file_extension": ".py",
   "mimetype": "text/x-python",
   "name": "python",
   "nbconvert_exporter": "python",
   "pygments_lexer": "ipython3",
   "version": "3.7.5"
  }
 },
 "nbformat": 4,
 "nbformat_minor": 4
}
